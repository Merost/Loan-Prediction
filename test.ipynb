{
 "cells": [
  {
   "cell_type": "code",
   "execution_count": 1,
   "metadata": {
    "collapsed": true
   },
   "outputs": [],
   "source": [
    "#load packages and set file paths.\n",
    "import pandas as pd\n",
    "import numpy as np\n",
    "import matplotlib.pyplot as plt\n",
    "import seaborn as sns\n",
    "\n",
    "%matplotlib inline\n",
    "\n",
    "train_loc = r\"C:\\Users\\me\\Documents\\datasets\\claim_train.csv\"\n",
    "test_loc = r\"C:\\Users\\me\\Documents\\datasets\\claim_test.csv\""
   ]
  }
